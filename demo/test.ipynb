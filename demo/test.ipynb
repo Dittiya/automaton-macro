{
 "cells": [
  {
   "cell_type": "code",
   "execution_count": null,
   "id": "87d35adb",
   "metadata": {},
   "outputs": [],
   "source": [
    "from limbus.data import Config\n",
    "from limbus.dungeon import Dungeon\n",
    "import matplotlib.pyplot as plt\n",
    "import cv2 as cv\n",
    "import numpy as np\n",
    "\n",
    "dir = \"D:\\Repository\\python-limbus\\images\\encounter\"\n",
    "dungeon_map = \"D:\\Repository\\python-limbus\\images\\\\train_3.png\"\n",
    "map = cv.imread(dungeon_map, cv.IMREAD_GRAYSCALE)\n",
    "\n",
    "cfg = Config()\n",
    "md = Dungeon(map, config=cfg, encounters_dir=dir)\n",
    "\n",
    "nodes = md.map()\n",
    "connections = md.map_connections()\n",
    "\n",
    "plt.figure(figsize=(16, 8))\n",
    "plt.imshow(map, cmap='gray')\n",
    "plt.show()"
   ]
  },
  {
   "cell_type": "code",
   "execution_count": null,
   "id": "2af4c8f1",
   "metadata": {},
   "outputs": [],
   "source": [
    "img_original = cv.imread(dungeon_map)\n",
    "img_original = cv.cvtColor(img_original, cv.COLOR_BGR2RGB)\n",
    "img = cv.cvtColor(img_original, cv.COLOR_RGB2GRAY)\n",
    "\n",
    "fig, axes = plt.subplots(3, 4, figsize=(16,8))\n",
    "index = 0\n",
    "for i in range(4):\n",
    "    for j in range(3):\n",
    "        node = nodes[index]\n",
    "        axes[j,i].set_title(node.name)\n",
    "        axes[j,i].imshow(img[node.y:node.y+node.height, node.x:node.x+node.width], cmap='gray')\n",
    "        index = index + 1\n",
    "        \n",
    "plt.show()"
   ]
  },
  {
   "cell_type": "code",
   "execution_count": null,
   "id": "d8217afc",
   "metadata": {},
   "outputs": [],
   "source": [
    "for line in connections:\n",
    "    for x1, y1, x2, y2 in line:\n",
    "        cv.line(map, (x1,y1), (x2,y2), (255,0,0), 2)\n",
    "\n",
    "plt.figure(figsize=(16, 8))\n",
    "plt.imshow(map, cmap='gray')\n",
    "plt.show()"
   ]
  }
 ],
 "metadata": {
  "kernelspec": {
   "display_name": "Python 3",
   "language": "python",
   "name": "python3"
  },
  "language_info": {
   "codemirror_mode": {
    "name": "ipython",
    "version": 3
   },
   "file_extension": ".py",
   "mimetype": "text/x-python",
   "name": "python",
   "nbconvert_exporter": "python",
   "pygments_lexer": "ipython3",
   "version": "3.10.16"
  }
 },
 "nbformat": 4,
 "nbformat_minor": 5
}
